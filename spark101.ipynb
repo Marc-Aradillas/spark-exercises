{
 "cells": [
  {
   "cell_type": "markdown",
   "id": "1137809e-2f37-4063-a9aa-5336181d1ed0",
   "metadata": {},
   "source": [
    "# SPARK101 EXERCISES"
   ]
  },
  {
   "cell_type": "markdown",
   "id": "6fc25974-a3a0-4cda-9b12-0796ca904198",
   "metadata": {},
   "source": [
    "## 1. **Create a spark data frame that contains your favorite programming languages.**"
   ]
  },
  {
   "cell_type": "markdown",
   "id": "808b8628-901e-4939-a341-c83ef6a10969",
   "metadata": {},
   "source": [
    "  "
   ]
  },
  {
   "cell_type": "code",
   "execution_count": 1,
   "id": "33928abe-7f00-490d-8b4a-02269ad28409",
   "metadata": {},
   "outputs": [],
   "source": [
    "import pyspark"
   ]
  },
  {
   "cell_type": "code",
   "execution_count": 2,
   "id": "ba6bbf8f-2395-477c-a98d-7f57d02c24db",
   "metadata": {},
   "outputs": [
    {
     "name": "stderr",
     "output_type": "stream",
     "text": [
      "Setting default log level to \"WARN\".\n",
      "To adjust logging level use sc.setLogLevel(newLevel). For SparkR, use setLogLevel(newLevel).\n",
      "23/11/25 12:56:25 WARN NativeCodeLoader: Unable to load native-hadoop library for your platform... using builtin-java classes where applicable\n"
     ]
    }
   ],
   "source": [
    "spark = pyspark.sql.SparkSession.builder.getOrCreate()"
   ]
  },
  {
   "cell_type": "code",
   "execution_count": 3,
   "id": "97eb86d0-41ce-4a74-9adc-d016eff63005",
   "metadata": {},
   "outputs": [
    {
     "data": {
      "text/html": [
       "\n",
       "            <div>\n",
       "                <p><b>SparkSession - in-memory</b></p>\n",
       "                \n",
       "        <div>\n",
       "            <p><b>SparkContext</b></p>\n",
       "\n",
       "            <p><a href=\"http://marcs-air.lan:4040\">Spark UI</a></p>\n",
       "\n",
       "            <dl>\n",
       "              <dt>Version</dt>\n",
       "                <dd><code>v3.5.0</code></dd>\n",
       "              <dt>Master</dt>\n",
       "                <dd><code>local[*]</code></dd>\n",
       "              <dt>AppName</dt>\n",
       "                <dd><code>pyspark-shell</code></dd>\n",
       "            </dl>\n",
       "        </div>\n",
       "        \n",
       "            </div>\n",
       "        "
      ],
      "text/plain": [
       "<pyspark.sql.session.SparkSession at 0x106c69090>"
      ]
     },
     "execution_count": 3,
     "metadata": {},
     "output_type": "execute_result"
    }
   ],
   "source": [
    "spark"
   ]
  },
  {
   "cell_type": "markdown",
   "id": "381cd1ae-2d87-4a0c-895a-104ce4d27b8e",
   "metadata": {},
   "source": [
    "  "
   ]
  },
  {
   "cell_type": "markdown",
   "id": "00acd4f3-f4a8-4871-a388-385e79a05ee5",
   "metadata": {},
   "source": [
    "  "
   ]
  },
  {
   "cell_type": "markdown",
   "id": "48b44b5d-4df1-4510-81e9-74e16ac59a76",
   "metadata": {},
   "source": [
    "* The name of the column should be language  "
   ]
  },
  {
   "cell_type": "code",
   "execution_count": 4,
   "id": "bed0ea66-7e14-40ce-9420-d6668a4ec21e",
   "metadata": {},
   "outputs": [
    {
     "name": "stderr",
     "output_type": "stream",
     "text": [
      "23/11/25 12:56:29 WARN SparkSession: Using an existing Spark session; only runtime SQL configurations will take effect.\n"
     ]
    }
   ],
   "source": [
    "# created a spark session\n",
    "spark = pyspark.sql.SparkSession.builder.appName(\"ProgrammingLanguages\").getOrCreate()"
   ]
  },
  {
   "cell_type": "code",
   "execution_count": 5,
   "id": "4d7fefa5-ccba-4c97-915f-10491bbfe578",
   "metadata": {},
   "outputs": [
    {
     "data": {
      "text/plain": [
       "['Python', 'C++', 'Java', 'C#', 'R']"
      ]
     },
     "execution_count": 5,
     "metadata": {},
     "output_type": "execute_result"
    }
   ],
   "source": [
    "# Created a list of my favorite programming languages\n",
    "fav_languages = [\"Python\", \"C++\", \"Java\", \"C#\", \"R\"]\n",
    "fav_languages"
   ]
  },
  {
   "cell_type": "code",
   "execution_count": 6,
   "id": "e24c723d-b6b1-45f7-9714-bb7d13a7128e",
   "metadata": {},
   "outputs": [],
   "source": [
    "# imported sparksession and row for creating asaprk df column\n",
    "from pyspark.sql import SparkSession\n",
    "from pyspark.sql import Row\n",
    "\n",
    "prgm_lang_df = spark.createDataFrame([Row(Languages=lang) for lang in fav_languages])"
   ]
  },
  {
   "cell_type": "code",
   "execution_count": 7,
   "id": "03f84eb3-016f-4572-94ad-acefbaeffdc6",
   "metadata": {},
   "outputs": [
    {
     "name": "stderr",
     "output_type": "stream",
     "text": [
      "                                                                                \r"
     ]
    },
    {
     "name": "stdout",
     "output_type": "stream",
     "text": [
      "+---------+\n",
      "|Languages|\n",
      "+---------+\n",
      "|   Python|\n",
      "|      C++|\n",
      "|     Java|\n",
      "|       C#|\n",
      "|        R|\n",
      "+---------+\n",
      "\n"
     ]
    }
   ],
   "source": [
    "prgm_lang_df.show()"
   ]
  },
  {
   "cell_type": "markdown",
   "id": "06bf220f-9ee1-46f0-baf6-395705d0848e",
   "metadata": {},
   "source": [
    "* View the schema of the dataframe  "
   ]
  },
  {
   "cell_type": "code",
   "execution_count": 8,
   "id": "45d7de82-0960-40b8-af2d-bf9a844519e6",
   "metadata": {},
   "outputs": [
    {
     "name": "stdout",
     "output_type": "stream",
     "text": [
      "root\n",
      " |-- Languages: string (nullable = true)\n",
      "\n"
     ]
    }
   ],
   "source": [
    "# Viewing Schema\n",
    "prgm_lang_df.printSchema()"
   ]
  },
  {
   "cell_type": "markdown",
   "id": "af523969-0c3b-4a64-b168-c0c55ae09646",
   "metadata": {},
   "source": [
    "* Output the shape of the dataframe  "
   ]
  },
  {
   "cell_type": "code",
   "execution_count": 9,
   "id": "89b9795f-2aa8-47ff-9060-2f3b0346a09c",
   "metadata": {},
   "outputs": [
    {
     "name": "stderr",
     "output_type": "stream",
     "text": [
      "                                                                                \r"
     ]
    }
   ],
   "source": [
    "# getting rows count and columns because there is shape attribute\n",
    "\n",
    "# number of rows\n",
    "num_rows = prgm_lang_df.count() \n",
    "\n",
    "# number of columns\n",
    "columns = prgm_lang_df.columns\n",
    "num_columns = len(columns)"
   ]
  },
  {
   "cell_type": "code",
   "execution_count": 10,
   "id": "b720b32e-5b22-45d6-bd59-678ce18e45cb",
   "metadata": {},
   "outputs": [
    {
     "name": "stdout",
     "output_type": "stream",
     "text": [
      "Number of Rows: 5\n",
      "Number of Columns: 1\n"
     ]
    }
   ],
   "source": [
    "# printing out shape\n",
    "\n",
    "print(f\"Number of Rows: {num_rows}\")\n",
    "print(f\"Number of Columns: {num_columns}\")"
   ]
  },
  {
   "cell_type": "markdown",
   "id": "e876890c-e61d-4fed-89ce-edf19c85804e",
   "metadata": {},
   "source": [
    "* Show the first 5 records in the dataframe"
   ]
  },
  {
   "cell_type": "code",
   "execution_count": 11,
   "id": "971a971d-6b9e-4004-ab89-5caa73d46c6a",
   "metadata": {},
   "outputs": [
    {
     "name": "stdout",
     "output_type": "stream",
     "text": [
      "+---------+\n",
      "|Languages|\n",
      "+---------+\n",
      "|   Python|\n",
      "|      C++|\n",
      "|     Java|\n",
      "|       C#|\n",
      "|        R|\n",
      "+---------+\n",
      "\n"
     ]
    }
   ],
   "source": [
    "prgm_lang_df.show(5)"
   ]
  },
  {
   "cell_type": "markdown",
   "id": "27c28e45-82ec-47e0-ab95-c596f81687a2",
   "metadata": {},
   "source": [
    "  "
   ]
  },
  {
   "cell_type": "code",
   "execution_count": 12,
   "id": "8ab7bbbb-92d2-46e4-bf1a-5814125511d2",
   "metadata": {},
   "outputs": [],
   "source": [
    "import pandas as pd\n",
    "import numpy as np\n",
    "import pyspark\n",
    "from pyspark.sql import SparkSession\n",
    "from pydataset import data\n",
    "# from vega_datasets import data\n",
    "\n",
    "# Note: The pyspark avg and mean functions are aliases of eachother\n",
    "from pyspark.sql.functions import col, expr, concat, sum, avg, min, max, count, mean, lit, regexp_extract, regexp_replace, when, asc, desc, month, year, quarter"
   ]
  },
  {
   "cell_type": "markdown",
   "id": "83aafb40-a2a2-43b9-a787-a9e3418aef63",
   "metadata": {},
   "source": [
    "### Visualization (or Lack Therof)\n",
    "\n",
    "Spark does not provide a way to do visualization with their dataframes. To\n",
    "visualize data from spark, you should use the `.toPandas` method on a spark\n",
    "dataframe to convert it to a pandas dataframe, then visualize as you normally\n",
    "would.\n",
    "\n",
    "!!!warning \"Converting to A Pandas Dataframe\"\n",
    "    Converting a spark dataframe to a pandas dataframe will pull all the data into memory, so make sure you have enough available memory to do so."
   ]
  },
  {
   "cell_type": "markdown",
   "id": "cd804dbf-9986-46cd-b944-13f4588b9b7b",
   "metadata": {},
   "source": [
    "## References\n",
    "\n",
    "- [PySpark API Docs](https://spark.apache.org/docs/latest/api/python/index.html)\n",
    "- [Spark SQL Programming Guide](https://spark.apache.org/docs/latest/sql-programming-guide.html) -- Note that the docs here show examples in many different programming languages, make sure you choose Python.\n",
    "- [DataFrame class](http://spark.apache.org/docs/latest/api/python/pyspark.sql.html#pyspark.sql.DataFrame)\n",
    "- [Column class](http://spark.apache.org/docs/latest/api/python/pyspark.sql.html#pyspark.sql.Column)\n",
    "- [pyspark.sql.functions module](http://spark.apache.org/docs/latest/api/python/pyspark.sql.html#module-pyspark.sql.functions)\n",
    "- `df.na`: [DataFrameNaFunctions class](http://spark.apache.org/docs/latest/api/python/pyspark.sql.html#pyspark.sql.DataFrameNaFunctions)"
   ]
  },
  {
   "cell_type": "code",
   "execution_count": 15,
   "id": "3abb006a-9492-4503-9476-509cdfa1496d",
   "metadata": {},
   "outputs": [],
   "source": [
    "spark = SparkSession.builder.getOrCreate()"
   ]
  },
  {
   "cell_type": "code",
   "execution_count": 16,
   "id": "e4d5a330-ef4e-46a6-99f3-066fcedce5a1",
   "metadata": {},
   "outputs": [
    {
     "name": "stderr",
     "output_type": "stream",
     "text": [
      "/opt/homebrew/anaconda3/lib/python3.10/site-packages/pyspark/sql/pandas/conversion.py:485: FutureWarning: is_datetime64tz_dtype is deprecated and will be removed in a future version. Check `isinstance(dtype, pd.DatetimeTZDtype)` instead.\n",
      "  if should_localize and is_datetime64tz_dtype(s.dtype) and s.dt.tz is not None:\n",
      "                                                                                \r"
     ]
    }
   ],
   "source": [
    "# utilized demo code to populate mpg\n",
    "mpg = spark.createDataFrame(data(\"mpg\"))\n",
    "\n",
    "mpg.write.json(\"data/mpg_json\", mode=\"overwrite\")\n",
    "\n",
    "# like much else in spark, there's multiple ways we could do this:\n",
    "(\n",
    "    mpg.write.format(\"csv\")\n",
    "    .mode(\"overwrite\")\n",
    "    .option(\"header\", \"true\")\n",
    "    .save(\"data/mpg_csv\")\n",
    ")"
   ]
  },
  {
   "cell_type": "markdown",
   "id": "6786856c-fb62-45c2-bd57-a398b8c65af9",
   "metadata": {},
   "source": [
    "  "
   ]
  },
  {
   "cell_type": "markdown",
   "id": "d00fada1-a37c-48c1-8686-1a517ae3c5e9",
   "metadata": {},
   "source": [
    "  "
   ]
  },
  {
   "cell_type": "markdown",
   "id": "993f64ec-4e16-4b7c-a9c4-787303288391",
   "metadata": {},
   "source": [
    "  "
   ]
  },
  {
   "cell_type": "markdown",
   "id": "1399c8d2-c82d-4cab-9941-c8131d1a17c1",
   "metadata": {},
   "source": [
    "  "
   ]
  },
  {
   "cell_type": "markdown",
   "id": "493d72f0-bc77-4802-a1fd-968876e8646d",
   "metadata": {},
   "source": [
    "## 2. **Load the mpg dataset as a spark dataframe.**\n",
    "\n",
    "$a.$ Create 1 column of output that contains a message like the one below:\n",
    "\n",
    " `The 1999 audi a4 has a 4 cylinder engine.`\n",
    " \n",
    "For each vehicle."
   ]
  },
  {
   "cell_type": "code",
   "execution_count": 17,
   "id": "0a0792b6-0039-4113-8176-f11fba209240",
   "metadata": {},
   "outputs": [
    {
     "name": "stdout",
     "output_type": "stream",
     "text": [
      "+------------+------------------+-----+----+---+----------+---+---+---+---+-------+\n",
      "|manufacturer|             model|displ|year|cyl|     trans|drv|cty|hwy| fl|  class|\n",
      "+------------+------------------+-----+----+---+----------+---+---+---+---+-------+\n",
      "|        audi|                a4|  1.8|1999|  4|  auto(l5)|  f| 18| 29|  p|compact|\n",
      "|        audi|                a4|  1.8|1999|  4|manual(m5)|  f| 21| 29|  p|compact|\n",
      "|        audi|                a4|  2.0|2008|  4|manual(m6)|  f| 20| 31|  p|compact|\n",
      "|        audi|                a4|  2.0|2008|  4|  auto(av)|  f| 21| 30|  p|compact|\n",
      "|        audi|                a4|  2.8|1999|  6|  auto(l5)|  f| 16| 26|  p|compact|\n",
      "|        audi|                a4|  2.8|1999|  6|manual(m5)|  f| 18| 26|  p|compact|\n",
      "|        audi|                a4|  3.1|2008|  6|  auto(av)|  f| 18| 27|  p|compact|\n",
      "|        audi|        a4 quattro|  1.8|1999|  4|manual(m5)|  4| 18| 26|  p|compact|\n",
      "|        audi|        a4 quattro|  1.8|1999|  4|  auto(l5)|  4| 16| 25|  p|compact|\n",
      "|        audi|        a4 quattro|  2.0|2008|  4|manual(m6)|  4| 20| 28|  p|compact|\n",
      "|        audi|        a4 quattro|  2.0|2008|  4|  auto(s6)|  4| 19| 27|  p|compact|\n",
      "|        audi|        a4 quattro|  2.8|1999|  6|  auto(l5)|  4| 15| 25|  p|compact|\n",
      "|        audi|        a4 quattro|  2.8|1999|  6|manual(m5)|  4| 17| 25|  p|compact|\n",
      "|        audi|        a4 quattro|  3.1|2008|  6|  auto(s6)|  4| 17| 25|  p|compact|\n",
      "|        audi|        a4 quattro|  3.1|2008|  6|manual(m6)|  4| 15| 25|  p|compact|\n",
      "|        audi|        a6 quattro|  2.8|1999|  6|  auto(l5)|  4| 15| 24|  p|midsize|\n",
      "|        audi|        a6 quattro|  3.1|2008|  6|  auto(s6)|  4| 17| 25|  p|midsize|\n",
      "|        audi|        a6 quattro|  4.2|2008|  8|  auto(s6)|  4| 16| 23|  p|midsize|\n",
      "|   chevrolet|c1500 suburban 2wd|  5.3|2008|  8|  auto(l4)|  r| 14| 20|  r|    suv|\n",
      "|   chevrolet|c1500 suburban 2wd|  5.3|2008|  8|  auto(l4)|  r| 11| 15|  e|    suv|\n",
      "+------------+------------------+-----+----+---+----------+---+---+---+---+-------+\n",
      "only showing top 20 rows\n",
      "\n"
     ]
    }
   ],
   "source": [
    "# displaying top 20 of the vehicles\n",
    "# concat can be used to create a message like inthe example.\n",
    "mpg.show()"
   ]
  },
  {
   "cell_type": "code",
   "execution_count": 18,
   "id": "770456ab-4f66-4279-95c3-a08ad8edc26d",
   "metadata": {},
   "outputs": [
    {
     "name": "stderr",
     "output_type": "stream",
     "text": [
      "[Stage 12:>                                                         (0 + 1) / 1]\r"
     ]
    },
    {
     "name": "stdout",
     "output_type": "stream",
     "text": [
      "+--------------------------------------------------------------+\n",
      "|output_message                                                |\n",
      "+--------------------------------------------------------------+\n",
      "|The 1999 audi a4 has a 4 cylinder engine.                     |\n",
      "|The 1999 audi a4 has a 4 cylinder engine.                     |\n",
      "|The 2008 audi a4 has a 4 cylinder engine.                     |\n",
      "|The 2008 audi a4 has a 4 cylinder engine.                     |\n",
      "|The 1999 audi a4 has a 6 cylinder engine.                     |\n",
      "|The 1999 audi a4 has a 6 cylinder engine.                     |\n",
      "|The 2008 audi a4 has a 6 cylinder engine.                     |\n",
      "|The 1999 audi a4 quattro has a 4 cylinder engine.             |\n",
      "|The 1999 audi a4 quattro has a 4 cylinder engine.             |\n",
      "|The 2008 audi a4 quattro has a 4 cylinder engine.             |\n",
      "|The 2008 audi a4 quattro has a 4 cylinder engine.             |\n",
      "|The 1999 audi a4 quattro has a 6 cylinder engine.             |\n",
      "|The 1999 audi a4 quattro has a 6 cylinder engine.             |\n",
      "|The 2008 audi a4 quattro has a 6 cylinder engine.             |\n",
      "|The 2008 audi a4 quattro has a 6 cylinder engine.             |\n",
      "|The 1999 audi a6 quattro has a 6 cylinder engine.             |\n",
      "|The 2008 audi a6 quattro has a 6 cylinder engine.             |\n",
      "|The 2008 audi a6 quattro has a 8 cylinder engine.             |\n",
      "|The 2008 chevrolet c1500 suburban 2wd has a 8 cylinder engine.|\n",
      "|The 2008 chevrolet c1500 suburban 2wd has a 8 cylinder engine.|\n",
      "+--------------------------------------------------------------+\n",
      "only showing top 20 rows\n",
      "\n"
     ]
    },
    {
     "name": "stderr",
     "output_type": "stream",
     "text": [
      "                                                                                \r"
     ]
    }
   ],
   "source": [
    "from pyspark.sql import functions as F\n",
    "\n",
    "def create_message(year, make, model, cylinders):\n",
    "    return f\"The {year} {make} {model} has a {cylinders} cylinder engine.\"\n",
    "\n",
    "create_message_udf = F.udf(create_message)\n",
    "\n",
    "mpg_df = mpg.withColumn(\n",
    "    \"output_message\",\n",
    "    create_message_udf(\n",
    "        F.col(\"year\"), F.col(\"manufacturer\"), F.col(\"model\"), F.col(\"cyl\")\n",
    "    )\n",
    ")\n",
    "\n",
    "mpg_df.select(\"output_message\").show(truncate=False)"
   ]
  },
  {
   "cell_type": "markdown",
   "id": "492c6beb-04a2-4c21-907d-ca10f357025c",
   "metadata": {},
   "source": [
    "  "
   ]
  },
  {
   "cell_type": "markdown",
   "id": "3814bca7-d747-4ee7-a5a0-cc3bd2018c68",
   "metadata": {},
   "source": [
    "  "
   ]
  },
  {
   "cell_type": "markdown",
   "id": "5b7e80e3-ea4c-427b-8ef3-d6d81496af0e",
   "metadata": {},
   "source": [
    "$b.$ Transform the trans column so that it only contains either manual or auto."
   ]
  },
  {
   "cell_type": "code",
   "execution_count": 19,
   "id": "7739f28b-db71-4a4e-8579-f2df20a4980b",
   "metadata": {},
   "outputs": [],
   "source": [
    "from pyspark.sql.functions import regexp_extract\n",
    "from pyspark.sql.types import StringType"
   ]
  },
  {
   "cell_type": "code",
   "execution_count": 20,
   "id": "37127c3c-fca2-4fc5-8c11-733d7ee3cf05",
   "metadata": {},
   "outputs": [
    {
     "name": "stdout",
     "output_type": "stream",
     "text": [
      "+----------+\n",
      "|     trans|\n",
      "+----------+\n",
      "|  auto(l5)|\n",
      "|manual(m5)|\n",
      "|manual(m6)|\n",
      "|  auto(av)|\n",
      "|  auto(l5)|\n",
      "+----------+\n",
      "only showing top 5 rows\n",
      "\n"
     ]
    }
   ],
   "source": [
    "mpg.select(mpg.trans).show(5)"
   ]
  },
  {
   "cell_type": "code",
   "execution_count": 21,
   "id": "0d28d059-23b5-4d7b-a9ab-0effcb062a26",
   "metadata": {},
   "outputs": [
    {
     "name": "stdout",
     "output_type": "stream",
     "text": [
      "+------+\n",
      "| trans|\n",
      "+------+\n",
      "|  auto|\n",
      "|manual|\n",
      "|manual|\n",
      "|  auto|\n",
      "|  auto|\n",
      "+------+\n",
      "only showing top 5 rows\n",
      "\n"
     ]
    }
   ],
   "source": [
    "mpg_transformed = mpg.withColumn(\"trans\", regexp_extract(mpg[\"trans\"], r\"(manual|auto)\", 1).cast(StringType()))\n",
    "\n",
    "mpg_transformed.select(\"trans\").show(5)"
   ]
  },
  {
   "cell_type": "code",
   "execution_count": 22,
   "id": "ff9bc357-6545-4742-9b73-1193cad1265a",
   "metadata": {},
   "outputs": [
    {
     "name": "stdout",
     "output_type": "stream",
     "text": [
      "+----------+---------+\n",
      "|trans     |trans_new|\n",
      "+----------+---------+\n",
      "|auto(l5)  |auto     |\n",
      "|manual(m5)|manual   |\n",
      "|manual(m6)|manual   |\n",
      "|auto(av)  |auto     |\n",
      "|auto(l5)  |auto     |\n",
      "|manual(m5)|manual   |\n",
      "|auto(av)  |auto     |\n",
      "|manual(m5)|manual   |\n",
      "|auto(l5)  |auto     |\n",
      "|manual(m6)|manual   |\n",
      "|auto(s6)  |auto     |\n",
      "|auto(l5)  |auto     |\n",
      "|manual(m5)|manual   |\n",
      "|auto(s6)  |auto     |\n",
      "|manual(m6)|manual   |\n",
      "|auto(l5)  |auto     |\n",
      "|auto(s6)  |auto     |\n",
      "|auto(s6)  |auto     |\n",
      "|auto(l4)  |auto     |\n",
      "|auto(l4)  |auto     |\n",
      "+----------+---------+\n",
      "only showing top 20 rows\n",
      "\n"
     ]
    }
   ],
   "source": [
    "mpg.select(\n",
    "    \"trans\",\n",
    "    regexp_extract(\"trans\", r\"^(\\w+)\", 1).alias(\"trans_new\"),\n",
    ").show(truncate=False)"
   ]
  },
  {
   "cell_type": "markdown",
   "id": "561d79b8-5bd1-4f93-85b5-db7967a7b7e0",
   "metadata": {},
   "source": [
    "  "
   ]
  },
  {
   "cell_type": "markdown",
   "id": "6f87dc02-07c6-4939-b842-8da33d572148",
   "metadata": {},
   "source": [
    "  "
   ]
  },
  {
   "cell_type": "markdown",
   "id": "e2419ec6-2976-465b-bb00-e075a85bde42",
   "metadata": {},
   "source": [
    "  "
   ]
  },
  {
   "cell_type": "markdown",
   "id": "6f7f2c2b-181a-4349-9dbd-9f90af98389c",
   "metadata": {},
   "source": [
    "  "
   ]
  },
  {
   "cell_type": "markdown",
   "id": "acf3507a-0ad8-4a30-a3b5-10e4b7dc5677",
   "metadata": {},
   "source": [
    "## 3. **Load the tips dataset as a spark dataframe.**"
   ]
  },
  {
   "cell_type": "code",
   "execution_count": 24,
   "id": "557b7c0c-b7d5-4345-a676-2c686888b1f9",
   "metadata": {},
   "outputs": [
    {
     "name": "stderr",
     "output_type": "stream",
     "text": [
      "/opt/homebrew/anaconda3/lib/python3.10/site-packages/pyspark/sql/pandas/conversion.py:485: FutureWarning: is_datetime64tz_dtype is deprecated and will be removed in a future version. Check `isinstance(dtype, pd.DatetimeTZDtype)` instead.\n",
      "  if should_localize and is_datetime64tz_dtype(s.dtype) and s.dt.tz is not None:\n",
      "                                                                                \r"
     ]
    }
   ],
   "source": [
    "# utilized demo code to populate mpg\n",
    "tips = spark.createDataFrame(data(\"tips\"))\n",
    "\n",
    "tips.write.json(\"data/tips_json\", mode=\"overwrite\")\n",
    "\n",
    "# like much else in spark, there's multiple ways we could do this:\n",
    "(\n",
    "    mpg.write.format(\"csv\")\n",
    "    .mode(\"overwrite\")\n",
    "    .option(\"header\", \"true\")\n",
    "    .save(\"data/tips_csv\")\n",
    ")"
   ]
  },
  {
   "cell_type": "markdown",
   "id": "a63f8e62-806a-4f8b-9c1f-8eb6e0c97e4e",
   "metadata": {},
   "source": [
    "$a.$ What percentage of observations are smokers?  "
   ]
  },
  {
   "cell_type": "code",
   "execution_count": 25,
   "id": "e81f43e5-d223-42a8-a9c5-338a0d8625bd",
   "metadata": {},
   "outputs": [
    {
     "name": "stdout",
     "output_type": "stream",
     "text": [
      "+----------+----+------+------+----+------+----+\n",
      "|total_bill| tip|   sex|smoker| day|  time|size|\n",
      "+----------+----+------+------+----+------+----+\n",
      "|     16.99|1.01|Female|    No| Sun|Dinner|   2|\n",
      "|     10.34|1.66|  Male|    No| Sun|Dinner|   3|\n",
      "|     21.01| 3.5|  Male|    No| Sun|Dinner|   3|\n",
      "|     23.68|3.31|  Male|    No| Sun|Dinner|   2|\n",
      "|     24.59|3.61|Female|    No| Sun|Dinner|   4|\n",
      "|     25.29|4.71|  Male|    No| Sun|Dinner|   4|\n",
      "|      8.77| 2.0|  Male|    No| Sun|Dinner|   2|\n",
      "|     26.88|3.12|  Male|    No| Sun|Dinner|   4|\n",
      "|     15.04|1.96|  Male|    No| Sun|Dinner|   2|\n",
      "|     14.78|3.23|  Male|    No| Sun|Dinner|   2|\n",
      "|     10.27|1.71|  Male|    No| Sun|Dinner|   2|\n",
      "|     35.26| 5.0|Female|    No| Sun|Dinner|   4|\n",
      "|     15.42|1.57|  Male|    No| Sun|Dinner|   2|\n",
      "|     18.43| 3.0|  Male|    No| Sun|Dinner|   4|\n",
      "|     14.83|3.02|Female|    No| Sun|Dinner|   2|\n",
      "|     21.58|3.92|  Male|    No| Sun|Dinner|   2|\n",
      "|     10.33|1.67|Female|    No| Sun|Dinner|   3|\n",
      "|     16.29|3.71|  Male|    No| Sun|Dinner|   3|\n",
      "|     16.97| 3.5|Female|    No| Sun|Dinner|   3|\n",
      "|     20.65|3.35|  Male|    No| Sat|Dinner|   3|\n",
      "|     17.92|4.08|  Male|    No| Sat|Dinner|   2|\n",
      "|     20.29|2.75|Female|    No| Sat|Dinner|   2|\n",
      "|     15.77|2.23|Female|    No| Sat|Dinner|   2|\n",
      "|     39.42|7.58|  Male|    No| Sat|Dinner|   4|\n",
      "|     19.82|3.18|  Male|    No| Sat|Dinner|   2|\n",
      "|     17.81|2.34|  Male|    No| Sat|Dinner|   4|\n",
      "|     13.37| 2.0|  Male|    No| Sat|Dinner|   2|\n",
      "|     12.69| 2.0|  Male|    No| Sat|Dinner|   2|\n",
      "|      21.7| 4.3|  Male|    No| Sat|Dinner|   2|\n",
      "|     19.65| 3.0|Female|    No| Sat|Dinner|   2|\n",
      "|      9.55|1.45|  Male|    No| Sat|Dinner|   2|\n",
      "|     18.35| 2.5|  Male|    No| Sat|Dinner|   4|\n",
      "|     15.06| 3.0|Female|    No| Sat|Dinner|   2|\n",
      "|     20.69|2.45|Female|    No| Sat|Dinner|   4|\n",
      "|     17.78|3.27|  Male|    No| Sat|Dinner|   2|\n",
      "|     24.06| 3.6|  Male|    No| Sat|Dinner|   3|\n",
      "|     16.31| 2.0|  Male|    No| Sat|Dinner|   3|\n",
      "|     16.93|3.07|Female|    No| Sat|Dinner|   3|\n",
      "|     18.69|2.31|  Male|    No| Sat|Dinner|   3|\n",
      "|     31.27| 5.0|  Male|    No| Sat|Dinner|   3|\n",
      "|     16.04|2.24|  Male|    No| Sat|Dinner|   3|\n",
      "|     17.46|2.54|  Male|    No| Sun|Dinner|   2|\n",
      "|     13.94|3.06|  Male|    No| Sun|Dinner|   2|\n",
      "|      9.68|1.32|  Male|    No| Sun|Dinner|   2|\n",
      "|      30.4| 5.6|  Male|    No| Sun|Dinner|   4|\n",
      "|     18.29| 3.0|  Male|    No| Sun|Dinner|   2|\n",
      "|     22.23| 5.0|  Male|    No| Sun|Dinner|   2|\n",
      "|      32.4| 6.0|  Male|    No| Sun|Dinner|   4|\n",
      "|     28.55|2.05|  Male|    No| Sun|Dinner|   3|\n",
      "|     18.04| 3.0|  Male|    No| Sun|Dinner|   2|\n",
      "|     12.54| 2.5|  Male|    No| Sun|Dinner|   2|\n",
      "|     10.29| 2.6|Female|    No| Sun|Dinner|   2|\n",
      "|     34.81| 5.2|Female|    No| Sun|Dinner|   4|\n",
      "|      9.94|1.56|  Male|    No| Sun|Dinner|   2|\n",
      "|     25.56|4.34|  Male|    No| Sun|Dinner|   4|\n",
      "|     19.49|3.51|  Male|    No| Sun|Dinner|   2|\n",
      "|     38.01| 3.0|  Male|   Yes| Sat|Dinner|   4|\n",
      "|     26.41| 1.5|Female|    No| Sat|Dinner|   2|\n",
      "|     11.24|1.76|  Male|   Yes| Sat|Dinner|   2|\n",
      "|     48.27|6.73|  Male|    No| Sat|Dinner|   4|\n",
      "|     20.29|3.21|  Male|   Yes| Sat|Dinner|   2|\n",
      "|     13.81| 2.0|  Male|   Yes| Sat|Dinner|   2|\n",
      "|     11.02|1.98|  Male|   Yes| Sat|Dinner|   2|\n",
      "|     18.29|3.76|  Male|   Yes| Sat|Dinner|   4|\n",
      "|     17.59|2.64|  Male|    No| Sat|Dinner|   3|\n",
      "|     20.08|3.15|  Male|    No| Sat|Dinner|   3|\n",
      "|     16.45|2.47|Female|    No| Sat|Dinner|   2|\n",
      "|      3.07| 1.0|Female|   Yes| Sat|Dinner|   1|\n",
      "|     20.23|2.01|  Male|    No| Sat|Dinner|   2|\n",
      "|     15.01|2.09|  Male|   Yes| Sat|Dinner|   2|\n",
      "|     12.02|1.97|  Male|    No| Sat|Dinner|   2|\n",
      "|     17.07| 3.0|Female|    No| Sat|Dinner|   3|\n",
      "|     26.86|3.14|Female|   Yes| Sat|Dinner|   2|\n",
      "|     25.28| 5.0|Female|   Yes| Sat|Dinner|   2|\n",
      "|     14.73| 2.2|Female|    No| Sat|Dinner|   2|\n",
      "|     10.51|1.25|  Male|    No| Sat|Dinner|   2|\n",
      "|     17.92|3.08|  Male|   Yes| Sat|Dinner|   2|\n",
      "|      27.2| 4.0|  Male|    No|Thur| Lunch|   4|\n",
      "|     22.76| 3.0|  Male|    No|Thur| Lunch|   2|\n",
      "|     17.29|2.71|  Male|    No|Thur| Lunch|   2|\n",
      "|     19.44| 3.0|  Male|   Yes|Thur| Lunch|   2|\n",
      "|     16.66| 3.4|  Male|    No|Thur| Lunch|   2|\n",
      "|     10.07|1.83|Female|    No|Thur| Lunch|   1|\n",
      "|     32.68| 5.0|  Male|   Yes|Thur| Lunch|   2|\n",
      "|     15.98|2.03|  Male|    No|Thur| Lunch|   2|\n",
      "|     34.83|5.17|Female|    No|Thur| Lunch|   4|\n",
      "|     13.03| 2.0|  Male|    No|Thur| Lunch|   2|\n",
      "|     18.28| 4.0|  Male|    No|Thur| Lunch|   2|\n",
      "|     24.71|5.85|  Male|    No|Thur| Lunch|   2|\n",
      "|     21.16| 3.0|  Male|    No|Thur| Lunch|   2|\n",
      "|     28.97| 3.0|  Male|   Yes| Fri|Dinner|   2|\n",
      "|     22.49| 3.5|  Male|    No| Fri|Dinner|   2|\n",
      "|      5.75| 1.0|Female|   Yes| Fri|Dinner|   2|\n",
      "|     16.32| 4.3|Female|   Yes| Fri|Dinner|   2|\n",
      "|     22.75|3.25|Female|    No| Fri|Dinner|   2|\n",
      "|     40.17|4.73|  Male|   Yes| Fri|Dinner|   4|\n",
      "|     27.28| 4.0|  Male|   Yes| Fri|Dinner|   2|\n",
      "|     12.03| 1.5|  Male|   Yes| Fri|Dinner|   2|\n",
      "|     21.01| 3.0|  Male|   Yes| Fri|Dinner|   2|\n",
      "|     12.46| 1.5|  Male|    No| Fri|Dinner|   2|\n",
      "|     11.35| 2.5|Female|   Yes| Fri|Dinner|   2|\n",
      "|     15.38| 3.0|Female|   Yes| Fri|Dinner|   2|\n",
      "|      44.3| 2.5|Female|   Yes| Sat|Dinner|   3|\n",
      "|     22.42|3.48|Female|   Yes| Sat|Dinner|   2|\n",
      "|     20.92|4.08|Female|    No| Sat|Dinner|   2|\n",
      "|     15.36|1.64|  Male|   Yes| Sat|Dinner|   2|\n",
      "|     20.49|4.06|  Male|   Yes| Sat|Dinner|   2|\n",
      "|     25.21|4.29|  Male|   Yes| Sat|Dinner|   2|\n",
      "|     18.24|3.76|  Male|    No| Sat|Dinner|   2|\n",
      "|     14.31| 4.0|Female|   Yes| Sat|Dinner|   2|\n",
      "|      14.0| 3.0|  Male|    No| Sat|Dinner|   2|\n",
      "|      7.25| 1.0|Female|    No| Sat|Dinner|   1|\n",
      "|     38.07| 4.0|  Male|    No| Sun|Dinner|   3|\n",
      "|     23.95|2.55|  Male|    No| Sun|Dinner|   2|\n",
      "|     25.71| 4.0|Female|    No| Sun|Dinner|   3|\n",
      "|     17.31| 3.5|Female|    No| Sun|Dinner|   2|\n",
      "|     29.93|5.07|  Male|    No| Sun|Dinner|   4|\n",
      "|     10.65| 1.5|Female|    No|Thur| Lunch|   2|\n",
      "|     12.43| 1.8|Female|    No|Thur| Lunch|   2|\n",
      "|     24.08|2.92|Female|    No|Thur| Lunch|   4|\n",
      "|     11.69|2.31|  Male|    No|Thur| Lunch|   2|\n",
      "|     13.42|1.68|Female|    No|Thur| Lunch|   2|\n",
      "|     14.26| 2.5|  Male|    No|Thur| Lunch|   2|\n",
      "|     15.95| 2.0|  Male|    No|Thur| Lunch|   2|\n",
      "|     12.48|2.52|Female|    No|Thur| Lunch|   2|\n",
      "|      29.8| 4.2|Female|    No|Thur| Lunch|   6|\n",
      "|      8.52|1.48|  Male|    No|Thur| Lunch|   2|\n",
      "|     14.52| 2.0|Female|    No|Thur| Lunch|   2|\n",
      "|     11.38| 2.0|Female|    No|Thur| Lunch|   2|\n",
      "|     22.82|2.18|  Male|    No|Thur| Lunch|   3|\n",
      "|     19.08| 1.5|  Male|    No|Thur| Lunch|   2|\n",
      "|     20.27|2.83|Female|    No|Thur| Lunch|   2|\n",
      "|     11.17| 1.5|Female|    No|Thur| Lunch|   2|\n",
      "|     12.26| 2.0|Female|    No|Thur| Lunch|   2|\n",
      "|     18.26|3.25|Female|    No|Thur| Lunch|   2|\n",
      "|      8.51|1.25|Female|    No|Thur| Lunch|   2|\n",
      "|     10.33| 2.0|Female|    No|Thur| Lunch|   2|\n",
      "|     14.15| 2.0|Female|    No|Thur| Lunch|   2|\n",
      "|      16.0| 2.0|  Male|   Yes|Thur| Lunch|   2|\n",
      "|     13.16|2.75|Female|    No|Thur| Lunch|   2|\n",
      "|     17.47| 3.5|Female|    No|Thur| Lunch|   2|\n",
      "|      34.3| 6.7|  Male|    No|Thur| Lunch|   6|\n",
      "|     41.19| 5.0|  Male|    No|Thur| Lunch|   5|\n",
      "|     27.05| 5.0|Female|    No|Thur| Lunch|   6|\n",
      "|     16.43| 2.3|Female|    No|Thur| Lunch|   2|\n",
      "|      8.35| 1.5|Female|    No|Thur| Lunch|   2|\n",
      "|     18.64|1.36|Female|    No|Thur| Lunch|   3|\n",
      "|     11.87|1.63|Female|    No|Thur| Lunch|   2|\n",
      "|      9.78|1.73|  Male|    No|Thur| Lunch|   2|\n",
      "|      7.51| 2.0|  Male|    No|Thur| Lunch|   2|\n",
      "|     14.07| 2.5|  Male|    No| Sun|Dinner|   2|\n",
      "|     13.13| 2.0|  Male|    No| Sun|Dinner|   2|\n",
      "|     17.26|2.74|  Male|    No| Sun|Dinner|   3|\n",
      "|     24.55| 2.0|  Male|    No| Sun|Dinner|   4|\n",
      "|     19.77| 2.0|  Male|    No| Sun|Dinner|   4|\n",
      "|     29.85|5.14|Female|    No| Sun|Dinner|   5|\n",
      "|     48.17| 5.0|  Male|    No| Sun|Dinner|   6|\n",
      "|      25.0|3.75|Female|    No| Sun|Dinner|   4|\n",
      "|     13.39|2.61|Female|    No| Sun|Dinner|   2|\n",
      "|     16.49| 2.0|  Male|    No| Sun|Dinner|   4|\n",
      "|      21.5| 3.5|  Male|    No| Sun|Dinner|   4|\n",
      "|     12.66| 2.5|  Male|    No| Sun|Dinner|   2|\n",
      "|     16.21| 2.0|Female|    No| Sun|Dinner|   3|\n",
      "|     13.81| 2.0|  Male|    No| Sun|Dinner|   2|\n",
      "|     17.51| 3.0|Female|   Yes| Sun|Dinner|   2|\n",
      "|     24.52|3.48|  Male|    No| Sun|Dinner|   3|\n",
      "|     20.76|2.24|  Male|    No| Sun|Dinner|   2|\n",
      "|     31.71| 4.5|  Male|    No| Sun|Dinner|   4|\n",
      "|     10.59|1.61|Female|   Yes| Sat|Dinner|   2|\n",
      "|     10.63| 2.0|Female|   Yes| Sat|Dinner|   2|\n",
      "|     50.81|10.0|  Male|   Yes| Sat|Dinner|   3|\n",
      "|     15.81|3.16|  Male|   Yes| Sat|Dinner|   2|\n",
      "|      7.25|5.15|  Male|   Yes| Sun|Dinner|   2|\n",
      "|     31.85|3.18|  Male|   Yes| Sun|Dinner|   2|\n",
      "|     16.82| 4.0|  Male|   Yes| Sun|Dinner|   2|\n",
      "|      32.9|3.11|  Male|   Yes| Sun|Dinner|   2|\n",
      "|     17.89| 2.0|  Male|   Yes| Sun|Dinner|   2|\n",
      "|     14.48| 2.0|  Male|   Yes| Sun|Dinner|   2|\n",
      "|       9.6| 4.0|Female|   Yes| Sun|Dinner|   2|\n",
      "|     34.63|3.55|  Male|   Yes| Sun|Dinner|   2|\n",
      "|     34.65|3.68|  Male|   Yes| Sun|Dinner|   4|\n",
      "|     23.33|5.65|  Male|   Yes| Sun|Dinner|   2|\n",
      "|     45.35| 3.5|  Male|   Yes| Sun|Dinner|   3|\n",
      "|     23.17| 6.5|  Male|   Yes| Sun|Dinner|   4|\n",
      "|     40.55| 3.0|  Male|   Yes| Sun|Dinner|   2|\n",
      "|     20.69| 5.0|  Male|    No| Sun|Dinner|   5|\n",
      "|      20.9| 3.5|Female|   Yes| Sun|Dinner|   3|\n",
      "|     30.46| 2.0|  Male|   Yes| Sun|Dinner|   5|\n",
      "|     18.15| 3.5|Female|   Yes| Sun|Dinner|   3|\n",
      "|      23.1| 4.0|  Male|   Yes| Sun|Dinner|   3|\n",
      "|     15.69| 1.5|  Male|   Yes| Sun|Dinner|   2|\n",
      "|     19.81|4.19|Female|   Yes|Thur| Lunch|   2|\n",
      "|     28.44|2.56|  Male|   Yes|Thur| Lunch|   2|\n",
      "|     15.48|2.02|  Male|   Yes|Thur| Lunch|   2|\n",
      "|     16.58| 4.0|  Male|   Yes|Thur| Lunch|   2|\n",
      "|      7.56|1.44|  Male|    No|Thur| Lunch|   2|\n",
      "|     10.34| 2.0|  Male|   Yes|Thur| Lunch|   2|\n",
      "|     43.11| 5.0|Female|   Yes|Thur| Lunch|   4|\n",
      "|      13.0| 2.0|Female|   Yes|Thur| Lunch|   2|\n",
      "|     13.51| 2.0|  Male|   Yes|Thur| Lunch|   2|\n",
      "|     18.71| 4.0|  Male|   Yes|Thur| Lunch|   3|\n",
      "|     12.74|2.01|Female|   Yes|Thur| Lunch|   2|\n",
      "|      13.0| 2.0|Female|   Yes|Thur| Lunch|   2|\n",
      "|      16.4| 2.5|Female|   Yes|Thur| Lunch|   2|\n",
      "|     20.53| 4.0|  Male|   Yes|Thur| Lunch|   4|\n",
      "|     16.47|3.23|Female|   Yes|Thur| Lunch|   3|\n",
      "|     26.59|3.41|  Male|   Yes| Sat|Dinner|   3|\n",
      "|     38.73| 3.0|  Male|   Yes| Sat|Dinner|   4|\n",
      "|     24.27|2.03|  Male|   Yes| Sat|Dinner|   2|\n",
      "|     12.76|2.23|Female|   Yes| Sat|Dinner|   2|\n",
      "|     30.06| 2.0|  Male|   Yes| Sat|Dinner|   3|\n",
      "|     25.89|5.16|  Male|   Yes| Sat|Dinner|   4|\n",
      "|     48.33| 9.0|  Male|    No| Sat|Dinner|   4|\n",
      "|     13.27| 2.5|Female|   Yes| Sat|Dinner|   2|\n",
      "|     28.17| 6.5|Female|   Yes| Sat|Dinner|   3|\n",
      "|      12.9| 1.1|Female|   Yes| Sat|Dinner|   2|\n",
      "|     28.15| 3.0|  Male|   Yes| Sat|Dinner|   5|\n",
      "|     11.59| 1.5|  Male|   Yes| Sat|Dinner|   2|\n",
      "|      7.74|1.44|  Male|   Yes| Sat|Dinner|   2|\n",
      "|     30.14|3.09|Female|   Yes| Sat|Dinner|   4|\n",
      "|     12.16| 2.2|  Male|   Yes| Fri| Lunch|   2|\n",
      "|     13.42|3.48|Female|   Yes| Fri| Lunch|   2|\n",
      "|      8.58|1.92|  Male|   Yes| Fri| Lunch|   1|\n",
      "|     15.98| 3.0|Female|    No| Fri| Lunch|   3|\n",
      "|     13.42|1.58|  Male|   Yes| Fri| Lunch|   2|\n",
      "|     16.27| 2.5|Female|   Yes| Fri| Lunch|   2|\n",
      "|     10.09| 2.0|Female|   Yes| Fri| Lunch|   2|\n",
      "|     20.45| 3.0|  Male|    No| Sat|Dinner|   4|\n",
      "|     13.28|2.72|  Male|    No| Sat|Dinner|   2|\n",
      "|     22.12|2.88|Female|   Yes| Sat|Dinner|   2|\n",
      "|     24.01| 2.0|  Male|   Yes| Sat|Dinner|   4|\n",
      "|     15.69| 3.0|  Male|   Yes| Sat|Dinner|   3|\n",
      "|     11.61|3.39|  Male|    No| Sat|Dinner|   2|\n",
      "|     10.77|1.47|  Male|    No| Sat|Dinner|   2|\n",
      "|     15.53| 3.0|  Male|   Yes| Sat|Dinner|   2|\n",
      "|     10.07|1.25|  Male|    No| Sat|Dinner|   2|\n",
      "|      12.6| 1.0|  Male|   Yes| Sat|Dinner|   2|\n",
      "|     32.83|1.17|  Male|   Yes| Sat|Dinner|   2|\n",
      "|     35.83|4.67|Female|    No| Sat|Dinner|   3|\n",
      "|     29.03|5.92|  Male|    No| Sat|Dinner|   3|\n",
      "|     27.18| 2.0|Female|   Yes| Sat|Dinner|   2|\n",
      "|     22.67| 2.0|  Male|   Yes| Sat|Dinner|   2|\n",
      "|     17.82|1.75|  Male|    No| Sat|Dinner|   2|\n",
      "|     18.78| 3.0|Female|    No|Thur|Dinner|   2|\n",
      "+----------+----+------+------+----+------+----+\n",
      "\n"
     ]
    }
   ],
   "source": [
    "tips.show(100_000)"
   ]
  },
  {
   "cell_type": "markdown",
   "id": "6c544b2c-497d-4743-8f14-a61e88463584",
   "metadata": {},
   "source": [
    "$b.$ Create a column that contains the tip percentage  "
   ]
  },
  {
   "cell_type": "code",
   "execution_count": null,
   "id": "43c3bd90-3826-4d9f-a5af-1b400858ddd1",
   "metadata": {},
   "outputs": [],
   "source": []
  },
  {
   "cell_type": "markdown",
   "id": "9a7c19c1-e6da-4726-b571-08ec19997ae5",
   "metadata": {},
   "source": [
    "$c.$ Calculate the average tip percentage for each combination of sex and smoker.  "
   ]
  },
  {
   "cell_type": "markdown",
   "id": "d1032a88-ceeb-4563-b9d8-7cf75eac8198",
   "metadata": {},
   "source": []
  },
  {
   "cell_type": "markdown",
   "id": "dcf49dc2-a043-4aae-994a-75720db749c9",
   "metadata": {},
   "source": [
    "  "
   ]
  },
  {
   "cell_type": "markdown",
   "id": "e8340c95-4112-416c-b29e-5f90c6fd7004",
   "metadata": {},
   "source": [
    "  "
   ]
  },
  {
   "cell_type": "markdown",
   "id": "01419049-4fc4-4f77-9308-4e6b639c5db2",
   "metadata": {},
   "source": [
    "  "
   ]
  },
  {
   "cell_type": "markdown",
   "id": "78a6c615-610e-48a3-891a-f4d5d867a338",
   "metadata": {},
   "source": [
    "  "
   ]
  },
  {
   "cell_type": "markdown",
   "id": "0a847fe1-0903-42c5-9ecf-efe8bc592610",
   "metadata": {},
   "source": [
    "  "
   ]
  },
  {
   "cell_type": "markdown",
   "id": "14cc396a-0fcc-45b5-8997-0e58c9528753",
   "metadata": {},
   "source": [
    "## 4. **Use the seattle weather dataset referenced in the lesson to answer the questions below.**\n",
    "\n",
    "* Convert the temperatures to fahrenheit.\n",
    "\n",
    "* Which month has the most rain, on average?\n",
    "   \n",
    "* Which year was the windiest?\n",
    "\n",
    "* What is the most frequent type of weather in January?\n",
    "  \n",
    "* What is the average high and low temperature on sunny days in July in 2013 and 2014?\n",
    "  \n",
    "* What percentage of days were rainy in q3 of 2015?\n",
    "  \n",
    "* For each year, find what percentage of days it rained (had non-zero precipitation)."
   ]
  },
  {
   "cell_type": "markdown",
   "id": "a3c75d0e-6b65-4b9c-8ce1-0a1ef032a775",
   "metadata": {},
   "source": [
    "  "
   ]
  },
  {
   "cell_type": "code",
   "execution_count": null,
   "id": "ea3e0372-b409-43d5-b7e4-be6bb3a4b756",
   "metadata": {},
   "outputs": [],
   "source": []
  },
  {
   "cell_type": "markdown",
   "id": "41dfe4ee-622b-4fa4-b936-fe6743bdd113",
   "metadata": {},
   "source": [
    "  "
   ]
  }
 ],
 "metadata": {
  "kernelspec": {
   "display_name": "Python 3 (ipykernel)",
   "language": "python",
   "name": "python3"
  },
  "language_info": {
   "codemirror_mode": {
    "name": "ipython",
    "version": 3
   },
   "file_extension": ".py",
   "mimetype": "text/x-python",
   "name": "python",
   "nbconvert_exporter": "python",
   "pygments_lexer": "ipython3",
   "version": "3.10.9"
  }
 },
 "nbformat": 4,
 "nbformat_minor": 5
}
