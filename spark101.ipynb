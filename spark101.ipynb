{
 "cells": [
  {
   "cell_type": "markdown",
   "id": "1137809e-2f37-4063-a9aa-5336181d1ed0",
   "metadata": {},
   "source": [
    "# SPARK101 EXERCISES"
   ]
  },
  {
   "cell_type": "markdown",
   "id": "daa25dcb-e5a1-49a0-9227-ebce2ea96717",
   "metadata": {},
   "source": [
    "## 1. **Create a spark data frame that contains your favorite programming languages.**\n",
    "\n",
    "* The name of the column should be language  \n",
    "* View the schema of the dataframe  \n",
    "* Output the shape of the dataframe  \n",
    "* Show the first 5 records in the dataframe"
   ]
  },
  {
   "cell_type": "markdown",
   "id": "27c28e45-82ec-47e0-ab95-c596f81687a2",
   "metadata": {},
   "source": [
    "  "
   ]
  },
  {
   "cell_type": "code",
   "execution_count": null,
   "id": "70b5452c-d9ff-483f-9b3e-aa6b42578d65",
   "metadata": {},
   "outputs": [],
   "source": []
  },
  {
   "cell_type": "markdown",
   "id": "6786856c-fb62-45c2-bd57-a398b8c65af9",
   "metadata": {},
   "source": [
    "  "
   ]
  },
  {
   "cell_type": "markdown",
   "id": "d00fada1-a37c-48c1-8686-1a517ae3c5e9",
   "metadata": {},
   "source": [
    "  "
   ]
  },
  {
   "cell_type": "markdown",
   "id": "993f64ec-4e16-4b7c-a9c4-787303288391",
   "metadata": {},
   "source": [
    "  "
   ]
  },
  {
   "cell_type": "markdown",
   "id": "1399c8d2-c82d-4cab-9941-c8131d1a17c1",
   "metadata": {},
   "source": [
    "  "
   ]
  },
  {
   "cell_type": "markdown",
   "id": "2619edec-2998-48d5-bc0d-bb9e71dd2c68",
   "metadata": {},
   "source": [
    "## 2. **Load the mpg dataset as a spark dataframe.**\n",
    "\n",
    "$a.$ Create 1 column of output that contains a message like the one below:\n",
    "\n",
    " `The 1999 audi a4 has a 4 cylinder engine.`\n",
    " \n",
    "For each vehicle.\n",
    "\n",
    "$b.$ Transform the trans column so that it only contains either manual or auto."
   ]
  },
  {
   "cell_type": "markdown",
   "id": "c006e03a-dba4-47b7-b384-43b1ba5cc258",
   "metadata": {},
   "source": [
    "  "
   ]
  },
  {
   "cell_type": "code",
   "execution_count": null,
   "id": "0a0792b6-0039-4113-8176-f11fba209240",
   "metadata": {},
   "outputs": [],
   "source": []
  },
  {
   "cell_type": "markdown",
   "id": "561d79b8-5bd1-4f93-85b5-db7967a7b7e0",
   "metadata": {},
   "source": [
    "  "
   ]
  },
  {
   "cell_type": "markdown",
   "id": "6f87dc02-07c6-4939-b842-8da33d572148",
   "metadata": {},
   "source": [
    "  "
   ]
  },
  {
   "cell_type": "markdown",
   "id": "e2419ec6-2976-465b-bb00-e075a85bde42",
   "metadata": {},
   "source": [
    "  "
   ]
  },
  {
   "cell_type": "markdown",
   "id": "6f7f2c2b-181a-4349-9dbd-9f90af98389c",
   "metadata": {},
   "source": [
    "  "
   ]
  },
  {
   "cell_type": "markdown",
   "id": "1f04ff90-f24c-4da7-b9a8-1b2c307a0b63",
   "metadata": {},
   "source": [
    "## 3. **Load the tips dataset as a spark dataframe.**\n",
    "\n",
    "$a.$ What percentage of observations are smokers?  \n",
    "\n",
    "$b.$ Create a column that contains the tip percentage  \n",
    "\n",
    "$c.$ Calculate the average tip percentage for each combination of sex and smoker.  "
   ]
  },
  {
   "cell_type": "markdown",
   "id": "dcf49dc2-a043-4aae-994a-75720db749c9",
   "metadata": {},
   "source": [
    "  "
   ]
  },
  {
   "cell_type": "code",
   "execution_count": null,
   "id": "17b17618-5aab-49ce-9b28-b190fb175b25",
   "metadata": {},
   "outputs": [],
   "source": []
  },
  {
   "cell_type": "markdown",
   "id": "e8340c95-4112-416c-b29e-5f90c6fd7004",
   "metadata": {},
   "source": [
    "  "
   ]
  },
  {
   "cell_type": "markdown",
   "id": "01419049-4fc4-4f77-9308-4e6b639c5db2",
   "metadata": {},
   "source": [
    "  "
   ]
  },
  {
   "cell_type": "markdown",
   "id": "78a6c615-610e-48a3-891a-f4d5d867a338",
   "metadata": {},
   "source": [
    "  "
   ]
  },
  {
   "cell_type": "markdown",
   "id": "0a847fe1-0903-42c5-9ecf-efe8bc592610",
   "metadata": {},
   "source": [
    "  "
   ]
  },
  {
   "cell_type": "markdown",
   "id": "14cc396a-0fcc-45b5-8997-0e58c9528753",
   "metadata": {},
   "source": [
    "## 4. **Use the seattle weather dataset referenced in the lesson to answer the questions below.**\n",
    "\n",
    "* Convert the temperatures to fahrenheit.\n",
    "\n",
    "* Which month has the most rain, on average?\n",
    "   \n",
    "* Which year was the windiest?\n",
    "\n",
    "* What is the most frequent type of weather in January?\n",
    "  \n",
    "* What is the average high and low temperature on sunny days in July in 2013 and 2014?\n",
    "  \n",
    "* What percentage of days were rainy in q3 of 2015?\n",
    "  \n",
    "* For each year, find what percentage of days it rained (had non-zero precipitation)."
   ]
  },
  {
   "cell_type": "markdown",
   "id": "a3c75d0e-6b65-4b9c-8ce1-0a1ef032a775",
   "metadata": {},
   "source": [
    "  "
   ]
  },
  {
   "cell_type": "code",
   "execution_count": null,
   "id": "ea3e0372-b409-43d5-b7e4-be6bb3a4b756",
   "metadata": {},
   "outputs": [],
   "source": []
  },
  {
   "cell_type": "markdown",
   "id": "41dfe4ee-622b-4fa4-b936-fe6743bdd113",
   "metadata": {},
   "source": [
    "  "
   ]
  }
 ],
 "metadata": {
  "kernelspec": {
   "display_name": "Python 3 (ipykernel)",
   "language": "python",
   "name": "python3"
  },
  "language_info": {
   "codemirror_mode": {
    "name": "ipython",
    "version": 3
   },
   "file_extension": ".py",
   "mimetype": "text/x-python",
   "name": "python",
   "nbconvert_exporter": "python",
   "pygments_lexer": "ipython3",
   "version": "3.10.9"
  }
 },
 "nbformat": 4,
 "nbformat_minor": 5
}
