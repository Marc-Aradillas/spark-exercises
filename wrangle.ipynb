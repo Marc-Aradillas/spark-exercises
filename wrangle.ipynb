{
 "cells": [
  {
   "cell_type": "markdown",
   "id": "095c221e-af4c-4020-9a34-6d2d5cfbeb7a",
   "metadata": {},
   "source": [
    "## Exercises\n",
    "\n",
    "## Data Acquisition\n",
    "\n",
    "These exercises should go in a notebook or script named `wrangle`. Add, commit, and push your changes.\n",
    "\n",
    "This exercises use the `cases`, `dept`, and `source` tables from the `311_data` on the Codeup MySQL server.\n",
    "\n",
    "1. Read the case, department, and source data into their own spark dataframes.\n",
    "\n",
    "1. Let's see how writing to the local disk works in spark:\n",
    "\n",
    "    - Write the code necessary to store the source data in both csv and json\n",
    "      format, store these as `sources_csv` and `sources_json`\n",
    "    - Inspect your folder structure. What do you notice?\n",
    "\n",
    "9. Inspect the data in your dataframes. Are the data types appropriate? Write\n",
    "   the code necessary to cast the values to the appropriate types.\n"
   ]
  },
  {
   "cell_type": "code",
   "execution_count": null,
   "id": "d3a74d68-f743-4232-9154-520dcf2c665d",
   "metadata": {},
   "outputs": [],
   "source": [
    "from pyspark.sql import SparkSession\n",
    "from pyspark.sql.functions import *\n",
    "import pandas as pd"
   ]
  },
  {
   "cell_type": "markdown",
   "id": "6408a605-3294-4925-9f97-f2bef7e156c3",
   "metadata": {},
   "source": [
    "---\n",
    "\n",
    "### Data Exploratory Questions\n",
    "\n",
    "\n",
    "1. How old is the latest (in terms of days past SLA) currently open issue? How\n",
    "   long has the oldest (in terms of days since opened) currently opened issue\n",
    "   been open?\n",
    "1. How many Stray Animal cases are there?\n",
    "1. How many service requests that are assigned to the Field Operations\n",
    "   department (`dept_division`) are not classified as \"Officer Standby\" request\n",
    "   type (`service_request_type`)?\n",
    "\n",
    "1. Convert the `council_district` column to a string column.\n",
    "1. Extract the year from the `case_closed_date` column.\n",
    "1. Convert `num_days_late` from days to hours in new columns `num_hours_late`.\n",
    "\n",
    "1. Join the case data with the source and department data.\n",
    "1. Are there any cases that do not have a request source?\n",
    "\n",
    "1. What are the top 10 service request types in terms of number of requests?\n",
    "1. What are the top 10 service request types in terms of average days late?\n",
    "1. Does number of days late depend on department?\n",
    "1. How do number of days late depend on department and request type?"
   ]
  },
  {
   "cell_type": "markdown",
   "id": "33d92f20-dc75-4570-a2dc-9cb850725a97",
   "metadata": {},
   "source": [
    "---"
   ]
  },
  {
   "cell_type": "markdown",
   "id": "7b688495-b3ce-4167-809c-b5314de359d7",
   "metadata": {},
   "source": [
    "### ***You might have noticed that the latest date in the dataset is fairly far off from the present day. To account for this, replace any occurances of the current time with the maximum date from the dataset.***"
   ]
  }
 ],
 "metadata": {
  "kernelspec": {
   "display_name": "Python 3 (ipykernel)",
   "language": "python",
   "name": "python3"
  },
  "language_info": {
   "codemirror_mode": {
    "name": "ipython",
    "version": 3
   },
   "file_extension": ".py",
   "mimetype": "text/x-python",
   "name": "python",
   "nbconvert_exporter": "python",
   "pygments_lexer": "ipython3",
   "version": "3.10.9"
  }
 },
 "nbformat": 4,
 "nbformat_minor": 5
}
